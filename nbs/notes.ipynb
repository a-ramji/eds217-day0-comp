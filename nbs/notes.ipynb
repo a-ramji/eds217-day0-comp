{
 "cells": [
  {
   "cell_type": "markdown",
   "metadata": {},
   "source": [
    "## Notes\n"
   ]
  },
  {
   "cell_type": "markdown",
   "metadata": {},
   "source": [
    "using pandas as pd\n",
    "- variable = pd.read_csv(... ) all data in that file you're reading in become assigned to that variable - in a data frame"
   ]
  },
  {
   "cell_type": "code",
   "execution_count": 15,
   "metadata": {},
   "outputs": [],
   "source": [
    "import pandas as pd # for dataframes\n",
    "import matplotlib.pyplot as plt # for plots\n",
    "import seaborn as sns # for nicer plots\n",
    "import re # regular expressions\n",
    "\n",
    "# Read the data\n",
    "toolik_fish = pd.read_csv(\n",
    "    # Path to the data\n",
    "    \"../data/raw_data/toolik_fish.csv\",\n",
    "    # not a number values are \"#N/A\"\n",
    "    na_values=\".\"\n",
    "    )"
   ]
  },
  {
   "cell_type": "code",
   "execution_count": 16,
   "metadata": {},
   "outputs": [
    {
     "name": "stdout",
     "output_type": "stream",
     "text": [
      "<class 'pandas.core.frame.DataFrame'>\n",
      "RangeIndex: 6726 entries, 0 to 6725\n",
      "Data columns (total 23 columns):\n",
      " #   Column                Non-Null Count  Dtype  \n",
      "---  ------                --------------  -----  \n",
      " 0   Date                  6726 non-null   object \n",
      " 1   Site                  6561 non-null   float64\n",
      " 2   Lake                  6726 non-null   object \n",
      " 3   Fish I.D.             3311 non-null   object \n",
      " 4   Species               6603 non-null   object \n",
      " 5   Total length (mm)     6551 non-null   float64\n",
      " 6   FL (mm)               3093 non-null   float64\n",
      " 7   SL (mm)               765 non-null    float64\n",
      " 8   Mass (g)              6498 non-null   float64\n",
      " 9   Sampling              4239 non-null   object \n",
      " 10  Otos                  1726 non-null   object \n",
      " 11  Stomach               1447 non-null   object \n",
      " 12  Sex                   1046 non-null   object \n",
      " 13  Mature                862 non-null    object \n",
      " 14  Gonads                278 non-null    object \n",
      " 15  P1                    413 non-null    object \n",
      " 16  Age                   669 non-null    float64\n",
      " 17  Total otolith radius  161 non-null    float64\n",
      " 18  DO1..DO52             119 non-null    float64\n",
      " 19  Fin clip              19 non-null     float64\n",
      " 20  Locality              94 non-null     object \n",
      " 21  Scales                197 non-null    object \n",
      " 22  Comments              1364 non-null   object \n",
      "dtypes: float64(9), object(14)\n",
      "memory usage: 1.2+ MB\n"
     ]
    }
   ],
   "source": [
    "toolik_fish.info()"
   ]
  },
  {
   "cell_type": "code",
   "execution_count": 17,
   "metadata": {},
   "outputs": [
    {
     "name": "stdout",
     "output_type": "stream",
     "text": [
      "(6726, 23)\n",
      "Index(['Date', 'Site', 'Lake', 'Fish I.D.', 'Species', 'Total length (mm)',\n",
      "       'FL (mm)', 'SL (mm)', 'Mass (g)', 'Sampling', 'Otos', 'Stomach', 'Sex',\n",
      "       'Mature', 'Gonads', 'P1', 'Age', 'Total otolith radius', 'DO1..DO52',\n",
      "       'Fin clip', 'Locality', 'Scales', 'Comments'],\n",
      "      dtype='object')\n"
     ]
    }
   ],
   "source": [
    "print(toolik_fish.shape)\n",
    "print(toolik_fish.columns)"
   ]
  },
  {
   "cell_type": "code",
   "execution_count": 18,
   "metadata": {},
   "outputs": [],
   "source": [
    "def snakecase(s):\n",
    "        \"\"\"Convert CamelCase to snake_case and lowercase the string\n",
    "        s: string\n",
    "        \"\"\"\n",
    "        s = re.sub(\n",
    "        # Find a lower case letter or number (group 1)\n",
    "        # followed by an upper case letter (group 2):\n",
    "        '([a-z0-9])([A-Z])',\n",
    "        # Replace with - \n",
    "        # \\1, the lower case letter, \n",
    "        # _, an underscore, and\n",
    "        # \\2, the upper case letter:\n",
    "        r'\\1_\\2',\n",
    "        # Perform the search and replace in \n",
    "        # the string s:\n",
    "        s \n",
    "        )\n",
    "        s = re.sub(\n",
    "                ' ', # Find a space\n",
    "                '_', # Replace with an underscore\n",
    "                s    # In the string\n",
    "                ).lower()  # Convert to lower case\n",
    "        return s\n",
    "\n",
    "# print(snakecase(\"HelloWorld\"))"
   ]
  },
  {
   "cell_type": "code",
   "execution_count": 19,
   "metadata": {},
   "outputs": [
    {
     "data": {
      "text/plain": [
       "Index(['date', 'site', 'lake', 'fish_i.d.', 'species', 'total_length_(mm)',\n",
       "       'fl_(mm)', 'sl_(mm)', 'mass_(g)', 'sampling', 'otos', 'stomach', 'sex',\n",
       "       'mature', 'gonads', 'p1', 'age', 'total_otolith_radius', 'do1..do52',\n",
       "       'fin_clip', 'locality', 'scales', 'comments'],\n",
       "      dtype='object')"
      ]
     },
     "execution_count": 19,
     "metadata": {},
     "output_type": "execute_result"
    }
   ],
   "source": [
    "toolik_fish.columns = [\n",
    "    snakecase(column) for column in toolik_fish.columns\n",
    "]\n",
    "\n",
    "toolik_fish.columns"
   ]
  },
  {
   "cell_type": "code",
   "execution_count": 20,
   "metadata": {},
   "outputs": [
    {
     "data": {
      "text/plain": [
       "numpy.float64"
      ]
     },
     "execution_count": 20,
     "metadata": {},
     "output_type": "execute_result"
    }
   ],
   "source": [
    "type(toolik_fish[\"total_length_(mm)\"][0])"
   ]
  },
  {
   "cell_type": "code",
   "execution_count": 23,
   "metadata": {},
   "outputs": [
    {
     "name": "stderr",
     "output_type": "stream",
     "text": [
      "c:\\Users\\annar\\anaconda3\\envs\\eds217_2023\\lib\\site-packages\\seaborn\\axisgrid.py:118: UserWarning: The figure layout has changed to tight\n",
      "  self._figure.tight_layout(*args, **kwargs)\n"
     ]
    },
    {
     "data": {
      "text/plain": [
       "<Figure size 1000x600 with 0 Axes>"
      ]
     },
     "metadata": {},
     "output_type": "display_data"
    },
    {
     "data": {
      "image/png": "[encoded data removed]",
      "text/plain": [
       "<Figure size 606x500 with 1 Axes>"
      ]
     },
     "metadata": {},
     "output_type": "display_data"
    }
   ],
   "source": [
    "fig = plt.figure(figsize = (10, 6))\n",
    "sns.set_theme(style=\"whitegrid\")\n",
    "sns.catplot(data=toolik_fish,\n",
    "            kind='bar',\n",
    "              x='species',\n",
    "              y='total_length_(mm)',\n",
    "              hue='sex',\n",
    "              palette=\"viridis\"\n",
    "              )\n",
    "\n",
    "plt.show()"
   ]
  }
 ],
 "metadata": {
  "kernelspec": {
   "display_name": "eds217_2023",
   "language": "python",
   "name": "python3"
  },
  "language_info": {
   "codemirror_mode": {
    "name": "ipython",
    "version": 3
   },
   "file_extension": ".py",
   "mimetype": "text/x-python",
   "name": "python",
   "nbconvert_exporter": "python",
   "pygments_lexer": "ipython3",
   "version": "3.10.12"
  },
  "orig_nbformat": 4
 },
 "nbformat": 4,
 "nbformat_minor": 2
}
