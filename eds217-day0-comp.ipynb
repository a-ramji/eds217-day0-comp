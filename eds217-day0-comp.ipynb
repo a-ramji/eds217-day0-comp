{
 "cells": [
  {
   "cell_type": "markdown",
   "metadata": {},
   "source": [
    "# Toolik Station Air Temperature (1988-2021)\n",
    "\n",
    "**Data:** Shaver, G. 2019. A multi-year DAILY weather file for the Toolik Field Station at Toolik Lake, AK starting 1988 to present. ver 4. Environmental Data Initiative. [Link](https://doi.org/10.6073/pasta/ce0f300cdf87ec002909012abefd9c5c) (Accessed 2021-08-08).\n",
    "\n",
    "The data are stored in the `data` subfolder. We'll use the relative path to point to it and read it in using `pandas`."
   ]
  },
  {
   "cell_type": "code",
   "execution_count": 35,
   "metadata": {},
   "outputs": [],
   "source": [
    "# Import the libraries\n",
    "import pandas as pd # for dataframes\n",
    "import matplotlib.pyplot as plt # for plots\n",
    "import seaborn as sns # for nicer plots\n",
    "import re # regular expressions\n",
    "\n",
    "# Read the data\n",
    "toolik_weather = pd.read_csv(\n",
    "    # Path to the data\n",
    "    \"data/toolik_weather.csv\",\n",
    "    # not a number values are \"#N/A\"\n",
    "    na_values=\"#N/A\"\n",
    "    )"
   ]
  },
  {
   "cell_type": "markdown",
   "metadata": {},
   "source": [
    "\n",
    "- First: Look at the data you've read in (always always)\n",
    "\n",
    "- Second: Check for any issues in the data\n",
    "\n",
    "- Third: Ensure all missing values are handled\n",
    "\n",
    "## Basic exploration\n",
    "\n",
    "### An overview"
   ]
  },
  {
   "cell_type": "code",
   "execution_count": null,
   "metadata": {},
   "outputs": [],
   "source": [
    "# Inspect the data\n",
    "toolik_weather.info()"
   ]
  },
  {
   "cell_type": "markdown",
   "metadata": {},
   "source": [
    "### A few other things to explore"
   ]
  },
  {
   "cell_type": "code",
   "execution_count": 33,
   "metadata": {},
   "outputs": [
    {
     "name": "stdout",
     "output_type": "stream",
     "text": [
      "(11171, 21)\n",
      "Index(['Year', 'Month', 'Date', 'LTER_Site', 'Station', 'Daily_AirTemp_Mean_C',\n",
      "       'Flag_Daily_AirTemp_Mean_C', 'Daily_AirTemp_AbsMax_C',\n",
      "       'Flag_Daily_AirTemp_AbsMax_C', 'Daily_AirTemp_AbsMin_C',\n",
      "       'Flag_Daily_AirTemp_AbsMin_C', 'Daily_Precip_Total_mm',\n",
      "       'Flag_Daily_Precip_Total_mm', 'Daily_windsp_mean_msec',\n",
      "       'FLAG_Daily_windsp_mean_msec', 'Daily_Windspeed_AbsMax_m_s',\n",
      "       'Daily_globalrad_total_jcm2', 'FLAG_Daily_globalrad_total_mjm2', 'Moss',\n",
      "       'Soil20cm', 'Comments'],\n",
      "      dtype='object')\n"
     ]
    }
   ],
   "source": [
    "# Inspect the data\n",
    "print(toolik_weather.shape)\n",
    "print(toolik_weather.columns)"
   ]
  },
  {
   "cell_type": "markdown",
   "metadata": {},
   "source": [
    "## One awesome cleaning tool: `python`\n",
    "\n",
    "We can use a simple python function to clean up column names."
   ]
  },
  {
   "cell_type": "code",
   "execution_count": 39,
   "metadata": {},
   "outputs": [
    {
     "name": "stdout",
     "output_type": "stream",
     "text": [
      "hello_world\n"
     ]
    }
   ],
   "source": [
    "def snakecase(s):\n",
    "        s = re.sub('([a-z0-9])([A-Z])', r'\\1_\\2', s)  # Convert CamelCase to snake_case\n",
    "        s = re.sub(' ', '_', s).lower()  # Replace 'spaces' with 'underscores' and convert to lowercase\n",
    "        return s\n",
    "\n",
    "print(snakecase(\"HelloWorld\"))"
   ]
  },
  {
   "cell_type": "code",
   "execution_count": 40,
   "metadata": {},
   "outputs": [
    {
     "data": {
      "text/plain": [
       "Index(['year', 'month', 'date', 'lter_site', 'station',\n",
       "       'daily_air_temp_mean_c', 'flag_daily_air_temp_mean_c',\n",
       "       'daily_air_temp_abs_max_c', 'flag_daily_air_temp_abs_max_c',\n",
       "       'daily_air_temp_abs_min_c', 'flag_daily_air_temp_abs_min_c',\n",
       "       'daily_precip_total_mm', 'flag_daily_precip_total_mm',\n",
       "       'daily_windsp_mean_msec', 'flag_daily_windsp_mean_msec',\n",
       "       'daily_windspeed_abs_max_m_s', 'daily_globalrad_total_jcm2',\n",
       "       'flag_daily_globalrad_total_mjm2', 'moss', 'soil20cm', 'comments'],\n",
       "      dtype='object')"
      ]
     },
     "execution_count": 40,
     "metadata": {},
     "output_type": "execute_result"
    }
   ],
   "source": [
    "\n",
    "toolik_weather.columns = [\n",
    "    # Replace spaces with underscores and lowercase labels\n",
    "    # for each col in toolik_weather.columns\n",
    "    snakecase(col) for col in toolik_weather.columns\n",
    "]\n",
    "\n",
    "# Check the cleaned column names\n",
    "toolik_weather.columns"
   ]
  },
  {
   "cell_type": "markdown",
   "metadata": {},
   "source": [
    "\n",
    "## Make a graph\n",
    "\n",
    "Let's make a jitterplot of temperatures by month.\n"
   ]
  },
  {
   "cell_type": "code",
   "execution_count": null,
   "metadata": {},
   "outputs": [],
   "source": [
    "plt.figure(figsize=(10, 6)) # This command sets the size of the figure\n",
    "\n",
    "sns.stripplot( # This command creates the plot\n",
    "    # The data argument sets the data that will be used to create\n",
    "    # the plot. In this case, the data is the toolik_weather data\n",
    "    # frame.\n",
    "    data=toolik_weather, \n",
    "    # The next two arguments set the x and y axes. In this case,\n",
    "    # the x axis is set to the month column and the y axis is set\n",
    "    # to the daily air temperature column.\n",
    "    x='month', \n",
    "    y='daily_air_temp_mean_c', \n",
    "    jitter=0.2, # This sets the jitter of the points on the x axis\n",
    "    # The hue argument sets the color of the points. In this case, \n",
    "    # the color is set by the daily air temperature.\n",
    "    hue='daily_air_temp_mean_c', \n",
    "    # This sets the color palette, which is a set of colors that\n",
    "    # will be used to color the points. In this case, the palette\n",
    "    # is set to the viridis palette, which is a colorblind-friendly\n",
    "    # palette.\n",
    "    palette='viridis' \n",
    ")\n",
    "\n",
    "# This command sets the title of the plot\n",
    "plt.title(\"Toolik Station daily air temperature\")\n",
    "# This command sets the x axis label\n",
    "plt.xlabel(\"Month\")\n",
    "# This command sets the y axis label\n",
    "plt.ylabel(\"Daily mean air temperatures (Celsius)\")\n",
    "\n",
    "# Finally, this command shows the plot in the notebook\n",
    "plt.show()"
   ]
  },
  {
   "cell_type": "markdown",
   "metadata": {},
   "source": [
    "\n",
    "## Export a figure"
   ]
  },
  {
   "cell_type": "code",
   "execution_count": null,
   "metadata": {},
   "outputs": [],
   "source": [
    "# These commands are the same as above, but they save the plot\n",
    "# to a file instead of showing it in the notebook.\n",
    "fig = plt.figure(figsize=(10, 6))\n",
    "sns.stripplot(\n",
    "    data=toolik_weather, \n",
    "    x='month', y='daily_air_temp_mean_c', \n",
    "    jitter=0.2, \n",
    "    hue='daily_air_temp_mean_c', \n",
    "    palette='viridis'\n",
    ")\n",
    "plt.title(\"Toolik Station daily air temperature\")\n",
    "plt.xlabel(\"Month\")\n",
    "plt.ylabel(\"Daily mean air temperatures (Celsius)\")\n",
    "\n",
    "# This command saves the plot to a file. The dpi argument sets\n",
    "# the resolution of the figure.\n",
    "fig.savefig(\"figs/toolik_temp_plot.png\", dpi=300)"
   ]
  },
  {
   "cell_type": "markdown",
   "metadata": {},
   "source": [
    "\n",
    "\n",
    "Now try changing something about the plot code and re-run the export code. Does your saved figure change? Great!\n",
    "\n",
    "## End Example 1\n"
   ]
  }
 ],
 "metadata": {
  "kernelspec": {
   "display_name": "eds217_2023",
   "language": "python",
   "name": "python3"
  },
  "language_info": {
   "codemirror_mode": {
    "name": "ipython",
    "version": 3
   },
   "file_extension": ".py",
   "mimetype": "text/x-python",
   "name": "python",
   "nbconvert_exporter": "python",
   "pygments_lexer": "ipython3",
   "version": "3.10.12"
  },
  "orig_nbformat": 4
 },
 "nbformat": 4,
 "nbformat_minor": 2
}
